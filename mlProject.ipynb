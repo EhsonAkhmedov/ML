{
  "nbformat": 4,
  "nbformat_minor": 0,
  "metadata": {
    "colab": {
      "name": "Untitled0.ipynb",
      "provenance": [],
      "collapsed_sections": []
    },
    "kernelspec": {
      "name": "python3",
      "display_name": "Python 3"
    },
    "language_info": {
      "name": "python"
    }
  },
  "cells": [
    {
      "cell_type": "code",
      "execution_count": 14,
      "metadata": {
        "colab": {
          "base_uri": "https://localhost:8080/",
          "height": 1000
        },
        "id": "bII0QsRCyfaT",
        "outputId": "34e5a053-90d5-4ce4-ced6-1ff0853d59f8"
      },
      "outputs": [
        {
          "output_type": "stream",
          "name": "stdout",
          "text": [
            "False\n",
            "14 40\n",
            "54\n",
            "19\n",
            "28.0,24.5\n"
          ]
        },
        {
          "output_type": "display_data",
          "data": {
            "text/plain": [
              "<Figure size 432x288 with 1 Axes>"
            ],
            "image/png": "[encoded data removed]"
          },
          "metadata": {}
        },
        {
          "output_type": "display_data",
          "data": {
            "text/plain": [
              "<Figure size 432x288 with 1 Axes>"
            ],
            "image/png": "[encoded data removed]"
          },
          "metadata": {}
        },
        {
          "output_type": "execute_result",
          "data": {
            "text/plain": [
              "     PassengerId  Survived  Pclass      Lname                      Name  \\\n",
              "65            66         1       3   Moubarek            Master. Gerios   \n",
              "138          139         0       3       Osen             Mr. Olaf Elon   \n",
              "131          132         0       3     Coelho    Mr. Domingos Fernandeo   \n",
              "130          131         0       3  Drazenoic                 Mr. Jozef   \n",
              "129          130         0       3    Ekstrom                 Mr. Johan   \n",
              "..           ...       ...     ...        ...                       ...   \n",
              "61            62         1       1      Icard              Miss. Amelie   \n",
              "136          137         1       1     Newsom      Miss. Helen Monypeny   \n",
              "11            12         1       1    Bonnell           Miss. Elizabeth   \n",
              "83            84         0       1     Carrau           Mr. Francisco M   \n",
              "54            55         0       1      Ostby   Mr. Engelhart Cornelius   \n",
              "\n",
              "        Sex   Age  SibSp  Parch              Ticket     Fare    Cabin Embarked  \n",
              "65     male   0.0      1      1                2661  15.2458  Unknown  Unknown  \n",
              "138    male  16.0      0      0                7534   9.2167  Unknown  Unknown  \n",
              "131    male  20.0      0      0  SOTON/O.Q. 3101307   7.0500  Unknown  Unknown  \n",
              "130    male  33.0      0      0              349241   7.8958  Unknown  Unknown  \n",
              "129    male  45.0      0      0              347061   6.9750  Unknown  Unknown  \n",
              "..      ...   ...    ...    ...                 ...      ...      ...      ...  \n",
              "61   female  38.0      0      0              113572  80.0000      B28      B28  \n",
              "136  female  19.0      0      2               11752  26.2833      D47      D47  \n",
              "11   female  58.0      0      0              113783  26.5500     C103     C103  \n",
              "83     male  28.0      0      0              113059  47.1000  Unknown  Unknown  \n",
              "54     male  65.0      0      1              113509  61.9792      B30      B30  \n",
              "\n",
              "[156 rows x 13 columns]"
            ],
            "text/html": [
              "\n",
              "  <div id=\"df-4f2e839a-5add-4843-8d12-7c5ebec3fef0\">\n",
              "    <div class=\"colab-df-container\">\n",
              "      <div>\n",
              "<style scoped>\n",
              "    .dataframe tbody tr th:only-of-type {\n",
              "        vertical-align: middle;\n",
              "    }\n",
              "\n",
              "    .dataframe tbody tr th {\n",
              "        vertical-align: top;\n",
              "    }\n",
              "\n",
              "    .dataframe thead th {\n",
              "        text-align: right;\n",
              "    }\n",
              "</style>\n",
              "<table border=\"1\" class=\"dataframe\">\n",
              "  <thead>\n",
              "    <tr style=\"text-align: right;\">\n",
              "      <th></th>\n",
              "      <th>PassengerId</th>\n",
              "      <th>Survived</th>\n",
              "      <th>Pclass</th>\n",
              "      <th>Lname</th>\n",
              "      <th>Name</th>\n",
              "      <th>Sex</th>\n",
              "      <th>Age</th>\n",
              "      <th>SibSp</th>\n",
              "      <th>Parch</th>\n",
              "      <th>Ticket</th>\n",
              "      <th>Fare</th>\n",
              "      <th>Cabin</th>\n",
              "      <th>Embarked</th>\n",
              "    </tr>\n",
              "  </thead>\n",
              "  <tbody>\n",
              "    <tr>\n",
              "      <th>65</th>\n",
              "      <td>66</td>\n",
              "      <td>1</td>\n",
              "      <td>3</td>\n",
              "      <td>Moubarek</td>\n",
              "      <td>Master. Gerios</td>\n",
              "      <td>male</td>\n",
              "      <td>0.0</td>\n",
              "      <td>1</td>\n",
              "      <td>1</td>\n",
              "      <td>2661</td>\n",
              "      <td>15.2458</td>\n",
              "      <td>Unknown</td>\n",
              "      <td>Unknown</td>\n",
              "    </tr>\n",
              "    <tr>\n",
              "      <th>138</th>\n",
              "      <td>139</td>\n",
              "      <td>0</td>\n",
              "      <td>3</td>\n",
              "      <td>Osen</td>\n",
              "      <td>Mr. Olaf Elon</td>\n",
              "      <td>male</td>\n",
              "      <td>16.0</td>\n",
              "      <td>0</td>\n",
              "      <td>0</td>\n",
              "      <td>7534</td>\n",
              "      <td>9.2167</td>\n",
              "      <td>Unknown</td>\n",
              "      <td>Unknown</td>\n",
              "    </tr>\n",
              "    <tr>\n",
              "      <th>131</th>\n",
              "      <td>132</td>\n",
              "      <td>0</td>\n",
              "      <td>3</td>\n",
              "      <td>Coelho</td>\n",
              "      <td>Mr. Domingos Fernandeo</td>\n",
              "      <td>male</td>\n",
              "      <td>20.0</td>\n",
              "      <td>0</td>\n",
              "      <td>0</td>\n",
              "      <td>SOTON/O.Q. 3101307</td>\n",
              "      <td>7.0500</td>\n",
              "      <td>Unknown</td>\n",
              "      <td>Unknown</td>\n",
              "    </tr>\n",
              "    <tr>\n",
              "      <th>130</th>\n",
              "      <td>131</td>\n",
              "      <td>0</td>\n",
              "      <td>3</td>\n",
              "      <td>Drazenoic</td>\n",
              "      <td>Mr. Jozef</td>\n",
              "      <td>male</td>\n",
              "      <td>33.0</td>\n",
              "      <td>0</td>\n",
              "      <td>0</td>\n",
              "      <td>349241</td>\n",
              "      <td>7.8958</td>\n",
              "      <td>Unknown</td>\n",
              "      <td>Unknown</td>\n",
              "    </tr>\n",
              "    <tr>\n",
              "      <th>129</th>\n",
              "      <td>130</td>\n",
              "      <td>0</td>\n",
              "      <td>3</td>\n",
              "      <td>Ekstrom</td>\n",
              "      <td>Mr. Johan</td>\n",
              "      <td>male</td>\n",
              "      <td>45.0</td>\n",
              "      <td>0</td>\n",
              "      <td>0</td>\n",
              "      <td>347061</td>\n",
              "      <td>6.9750</td>\n",
              "      <td>Unknown</td>\n",
              "      <td>Unknown</td>\n",
              "    </tr>\n",
              "    <tr>\n",
              "      <th>...</th>\n",
              "      <td>...</td>\n",
              "      <td>...</td>\n",
              "      <td>...</td>\n",
              "      <td>...</td>\n",
              "      <td>...</td>\n",
              "      <td>...</td>\n",
              "      <td>...</td>\n",
              "      <td>...</td>\n",
              "      <td>...</td>\n",
              "      <td>...</td>\n",
              "      <td>...</td>\n",
              "      <td>...</td>\n",
              "      <td>...</td>\n",
              "    </tr>\n",
              "    <tr>\n",
              "      <th>61</th>\n",
              "      <td>62</td>\n",
              "      <td>1</td>\n",
              "      <td>1</td>\n",
              "      <td>Icard</td>\n",
              "      <td>Miss. Amelie</td>\n",
              "      <td>female</td>\n",
              "      <td>38.0</td>\n",
              "      <td>0</td>\n",
              "      <td>0</td>\n",
              "      <td>113572</td>\n",
              "      <td>80.0000</td>\n",
              "      <td>B28</td>\n",
              "      <td>B28</td>\n",
              "    </tr>\n",
              "    <tr>\n",
              "      <th>136</th>\n",
              "      <td>137</td>\n",
              "      <td>1</td>\n",
              "      <td>1</td>\n",
              "      <td>Newsom</td>\n",
              "      <td>Miss. Helen Monypeny</td>\n",
              "      <td>female</td>\n",
              "      <td>19.0</td>\n",
              "      <td>0</td>\n",
              "      <td>2</td>\n",
              "      <td>11752</td>\n",
              "      <td>26.2833</td>\n",
              "      <td>D47</td>\n",
              "      <td>D47</td>\n",
              "    </tr>\n",
              "    <tr>\n",
              "      <th>11</th>\n",
              "      <td>12</td>\n",
              "      <td>1</td>\n",
              "      <td>1</td>\n",
              "      <td>Bonnell</td>\n",
              "      <td>Miss. Elizabeth</td>\n",
              "      <td>female</td>\n",
              "      <td>58.0</td>\n",
              "      <td>0</td>\n",
              "      <td>0</td>\n",
              "      <td>113783</td>\n",
              "      <td>26.5500</td>\n",
              "      <td>C103</td>\n",
              "      <td>C103</td>\n",
              "    </tr>\n",
              "    <tr>\n",
              "      <th>83</th>\n",
              "      <td>84</td>\n",
              "      <td>0</td>\n",
              "      <td>1</td>\n",
              "      <td>Carrau</td>\n",
              "      <td>Mr. Francisco M</td>\n",
              "      <td>male</td>\n",
              "      <td>28.0</td>\n",
              "      <td>0</td>\n",
              "      <td>0</td>\n",
              "      <td>113059</td>\n",
              "      <td>47.1000</td>\n",
              "      <td>Unknown</td>\n",
              "      <td>Unknown</td>\n",
              "    </tr>\n",
              "    <tr>\n",
              "      <th>54</th>\n",
              "      <td>55</td>\n",
              "      <td>0</td>\n",
              "      <td>1</td>\n",
              "      <td>Ostby</td>\n",
              "      <td>Mr. Engelhart Cornelius</td>\n",
              "      <td>male</td>\n",
              "      <td>65.0</td>\n",
              "      <td>0</td>\n",
              "      <td>1</td>\n",
              "      <td>113509</td>\n",
              "      <td>61.9792</td>\n",
              "      <td>B30</td>\n",
              "      <td>B30</td>\n",
              "    </tr>\n",
              "  </tbody>\n",
              "</table>\n",
              "<p>156 rows × 13 columns</p>\n",
              "</div>\n",
              "      <button class=\"colab-df-convert\" onclick=\"convertToInteractive('df-4f2e839a-5add-4843-8d12-7c5ebec3fef0')\"\n",
              "              title=\"Convert this dataframe to an interactive table.\"\n",
              "              style=\"display:none;\">\n",
              "        \n",
              "  <svg xmlns=\"http://www.w3.org/2000/svg\" height=\"24px\"viewBox=\"0 0 24 24\"\n",
              "       width=\"24px\">\n",
              "    <path d=\"M0 0h24v24H0V0z\" fill=\"none\"/>\n",
              "    <path d=\"M18.56 5.44l.94 2.06.94-2.06 2.06-.94-2.06-.94-.94-2.06-.94 2.06-2.06.94zm-11 1L8.5 8.5l.94-2.06 2.06-.94-2.06-.94L8.5 2.5l-.94 2.06-2.06.94zm10 10l.94 2.06.94-2.06 2.06-.94-2.06-.94-.94-2.06-.94 2.06-2.06.94z\"/><path d=\"M17.41 7.96l-1.37-1.37c-.4-.4-.92-.59-1.43-.59-.52 0-1.04.2-1.43.59L10.3 9.45l-7.72 7.72c-.78.78-.78 2.05 0 2.83L4 21.41c.39.39.9.59 1.41.59.51 0 1.02-.2 1.41-.59l7.78-7.78 2.81-2.81c.8-.78.8-2.07 0-2.86zM5.41 20L4 18.59l7.72-7.72 1.47 1.35L5.41 20z\"/>\n",
              "  </svg>\n",
              "      </button>\n",
              "      \n",
              "  <style>\n",
              "    .colab-df-container {\n",
              "      display:flex;\n",
              "      flex-wrap:wrap;\n",
              "      gap: 12px;\n",
              "    }\n",
              "\n",
              "    .colab-df-convert {\n",
              "      background-color: #E8F0FE;\n",
              "      border: none;\n",
              "      border-radius: 50%;\n",
              "      cursor: pointer;\n",
              "      display: none;\n",
              "      fill: #1967D2;\n",
              "      height: 32px;\n",
              "      padding: 0 0 0 0;\n",
              "      width: 32px;\n",
              "    }\n",
              "\n",
              "    .colab-df-convert:hover {\n",
              "      background-color: #E2EBFA;\n",
              "      box-shadow: 0px 1px 2px rgba(60, 64, 67, 0.3), 0px 1px 3px 1px rgba(60, 64, 67, 0.15);\n",
              "      fill: #174EA6;\n",
              "    }\n",
              "\n",
              "    [theme=dark] .colab-df-convert {\n",
              "      background-color: #3B4455;\n",
              "      fill: #D2E3FC;\n",
              "    }\n",
              "\n",
              "    [theme=dark] .colab-df-convert:hover {\n",
              "      background-color: #434B5C;\n",
              "      box-shadow: 0px 1px 3px 1px rgba(0, 0, 0, 0.15);\n",
              "      filter: drop-shadow(0px 1px 2px rgba(0, 0, 0, 0.3));\n",
              "      fill: #FFFFFF;\n",
              "    }\n",
              "  </style>\n",
              "\n",
              "      <script>\n",
              "        const buttonEl =\n",
              "          document.querySelector('#df-4f2e839a-5add-4843-8d12-7c5ebec3fef0 button.colab-df-convert');\n",
              "        buttonEl.style.display =\n",
              "          google.colab.kernel.accessAllowed ? 'block' : 'none';\n",
              "\n",
              "        async function convertToInteractive(key) {\n",
              "          const element = document.querySelector('#df-4f2e839a-5add-4843-8d12-7c5ebec3fef0');\n",
              "          const dataTable =\n",
              "            await google.colab.kernel.invokeFunction('convertToInteractive',\n",
              "                                                     [key], {});\n",
              "          if (!dataTable) return;\n",
              "\n",
              "          const docLinkHtml = 'Like what you see? Visit the ' +\n",
              "            '<a target=\"_blank\" href=https://colab.research.google.com/notebooks/data_table.ipynb>data table notebook</a>'\n",
              "            + ' to learn more about interactive tables.';\n",
              "          element.innerHTML = '';\n",
              "          dataTable['output_type'] = 'display_data';\n",
              "          await google.colab.output.renderOutput(dataTable, element);\n",
              "          const docLink = document.createElement('div');\n",
              "          docLink.innerHTML = docLinkHtml;\n",
              "          element.appendChild(docLink);\n",
              "        }\n",
              "      </script>\n",
              "    </div>\n",
              "  </div>\n",
              "  "
            ]
          },
          "metadata": {},
          "execution_count": 14
        }
      ],
      "source": [
        "import pandas as pd\n",
        "import math\n",
        "import matplotlib.pyplot as md\n",
        "import numpy as np\n",
        "\n",
        "csv = pd.read_csv(\"https://gist.githubusercontent.com/jwalsh/ce1dc0436aba5b7a5c9666f47fa5a380/raw/5ce3854392b43ff97907112d344fc008229b0445/titanic.csv\")\n",
        "dt = pd.DataFrame(csv)\n",
        "\n",
        "\n",
        "dt['Age']      = dt[\"Age\"].fillna(0)\n",
        "dt[\"Cabin\"]    = dt[\"Cabin\"].fillna(\"Unknown\")\n",
        "dt[\"Embarked\"] = dt[\"Cabin\"].fillna(\"Unknown\")\n",
        "dt             = dt.sort_values(by=[\"Age\"],ascending=False)\n",
        "\n",
        "\n",
        "\n",
        "\n",
        "\n",
        "\n",
        "#Analyze .....\n",
        "# men = dt[dt[\"Sex\"] == \"male\"][\"Survived\"].sum()\n",
        "# wemen = dt[dt[\"Sex\"] == \"female\"][\"Survived\"].sum()\n",
        "# print(dt[\"Lname\"].isnull().values.any())\n",
        "\n",
        "# arr = [men,wemen]\n",
        "# print(arr[0],arr[1])\n",
        "#...................\n",
        "survived = dt[dt[\"Survived\"] == 1].count() * 100 // len(dt)\n",
        "\n",
        "survived = survived[\"Survived\"]\n",
        "# s = dt[dt[\"Survived\"] == 1].count()[\"Survived\"]\n",
        "\n",
        "# print(s)\n",
        "#.......................\n",
        "# Pclass = dt[dt[\"Pclass\"] == 1].count() * 100 // len(dt)\n",
        "# Pclass = Pclass[\"Pclass\"]\n",
        "# print(Pclass)\n",
        "\n",
        "#...................\n",
        "\n",
        "age = dt[\"Age\"].describe([.30])[5]\n",
        "\n",
        "\n",
        "# ages = []\n",
        "# ages.append(dt[dt[\"Age\"] > 0])\n",
        "# ages_length = len(dt[dt[\"Age\"] > 0])\n",
        "\n",
        "\n",
        "# def get_median(ages,ages_len):\n",
        "#   if math.fmod(ages_len,2) == 0:\n",
        "#     NFORM = int(math.floor((ages_len + 1) / 2))\n",
        "#     result = (ages[0][\"Age\"][NFORM - 1] + ages[0][\"Age\"][NFORM]) / 2 #MEDIAN\n",
        "#     return result\n",
        "#   else:\n",
        "#     NFORM = (ages_len + 1) // 2\n",
        "#     result = ages[0][\"Age\"][NFORM - 1]\n",
        "#     return result\n",
        "  \n",
        "# median = get_median(ages,ages_length)\n",
        "\n",
        "# def MiddleArifmetical(ages,ages_len):\n",
        "#   #2 + 3 + 4  // count = 9\n",
        "#   res = sum(ages[0][\"Age\"],ages[0][\"Age\"][0]) // ages_len\n",
        "#   return res\n",
        "\n",
        "# MiddleArifmetical = MiddleArifmetical(ages,ages_length)\n",
        "\n",
        "\n",
        "\n",
        "\n",
        "\n",
        "# print(f\"{MiddleArifmetical},{median}\")\n",
        "\n",
        "\n",
        "# fullAge = int(math.ceil(dt.nlargest(1,\"Age\")['Age']))\n",
        "\n",
        "\n",
        "\n",
        "#....................................\n",
        "\n",
        "\n",
        "\n",
        "\n",
        "# people = np.array([men, wemen])\n",
        "# Labels = [\"men\",\"wemen\"]\n",
        "# md.pie(people,labels=Labels,explode=[0.2,0],colors=[\"tomato\",\"#186EFF\"],shadow=True,autopct='%1.1f%%')\n",
        "# md.legend(title=\"Sex:\")\n",
        "# md.show() \n",
        "\n",
        "# survivedGraffic = np.array([len(dt),survived])\n",
        "# lb = [\"people\",\"survived\"]\n",
        "# md.pie(survivedGraffic,labels=lb,explode=[0,0.5],colors=[\"gray\",\"#186EFF\"],shadow=True,startangle = 45,autopct='%1.1f%%')\n",
        "# md.legend(title=\"Survived <>\")\n",
        "# md.show()\n",
        "\n",
        "\n",
        "# Data to plot\n",
        "# labels = 'Python', 'C++', 'Ruby', 'Java'\n",
        "# sizes = [215, 130, 245, 210]\n",
        "# colors = ['gold', 'yellowgreen', 'lightcoral', 'lightskyblue']\n",
        "# explode = (0.1, 0, 0, 0)  # explode 1st slice\n",
        "\n",
        "# # Plot\n",
        "# md.pie(sizes, explode=explode, labels=labels, colors=colors,\n",
        "# autopct='%1.1f%%', shadow=True, startangle=140)\n",
        "\n",
        "# md.axis('equal')\n",
        "# md.show()\n",
        "dt\n",
        "\n",
        "\n",
        "# 14 40\n",
        "# 54\n",
        "# 19\n",
        "# 28.0,24.5\n"
      ]
    },
    {
      "cell_type": "code",
      "source": [
        "csv = pd.read_csv(\"https://gist.githubusercontent.com/jwalsh/ce1dc0436aba5b7a5c9666f47fa5a380/raw/5ce3854392b43ff97907112d344fc008229b0445/titanic.csv\")\n",
        "dt = pd.DataFrame(csv)\n",
        "\n",
        "\n",
        "dt['Age']      = dt[\"Age\"].fillna(0)\n",
        "dt[\"Cabin\"]    = dt[\"Cabin\"].fillna(\"Unknown\")\n",
        "dt[\"Embarked\"] = dt[\"Cabin\"].fillna(\"Unknown\")\n",
        "dt             = dt.sort_values(by=[\"Age\"],ascending=False)\n",
        "   "
      ],
      "metadata": {
        "id": "CV-dc90n4Vik"
      },
      "execution_count": null,
      "outputs": []
    },
    {
      "cell_type": "code",
      "source": [
        "men = dt[dt[\"Sex\"] == \"male\"][\"Survived\"].sum()\n",
        "wemen = dt[dt[\"Sex\"] == \"female\"][\"Survived\"].sum()\n",
        "\n",
        "\n",
        "arr = [men,wemen]\n",
        "print(arr[0],arr[1])"
      ],
      "metadata": {
        "colab": {
          "base_uri": "https://localhost:8080/"
        },
        "id": "S0mj8upe4fb3",
        "outputId": "d21ae624-f2de-4076-c04b-9f667e470e21"
      },
      "execution_count": 15,
      "outputs": [
        {
          "output_type": "stream",
          "name": "stdout",
          "text": [
            "False\n",
            "14 40\n"
          ]
        }
      ]
    },
    {
      "cell_type": "code",
      "source": [
        "s = dt[dt[\"Survived\"] == 1].count()[\"Survived\"]\n",
        "print(s)"
      ],
      "metadata": {
        "colab": {
          "base_uri": "https://localhost:8080/"
        },
        "id": "dizls1Gc4sCd",
        "outputId": "6d3dab48-600b-40de-bd6d-26cf9fa2ab87"
      },
      "execution_count": 16,
      "outputs": [
        {
          "output_type": "stream",
          "name": "stdout",
          "text": [
            "54\n"
          ]
        }
      ]
    },
    {
      "cell_type": "code",
      "source": [
        "Pclass = dt[dt[\"Pclass\"] == 1].count() * 100 // len(dt)\n",
        "Pclass = Pclass[\"Pclass\"]\n",
        "print(Pclass)"
      ],
      "metadata": {
        "colab": {
          "base_uri": "https://localhost:8080/"
        },
        "id": "_iErGTkP42yf",
        "outputId": "f924b14e-e978-48d3-f47a-0c9f5b4c7bfe"
      },
      "execution_count": 17,
      "outputs": [
        {
          "output_type": "stream",
          "name": "stdout",
          "text": [
            "19\n"
          ]
        }
      ]
    },
    {
      "cell_type": "code",
      "source": [
        "ages = []\n",
        "ages.append(dt[dt[\"Age\"] > 0])\n",
        "ages_length = len(dt[dt[\"Age\"] > 0])\n",
        "\n",
        "\n",
        "def get_median(ages,ages_len):\n",
        "  if math.fmod(ages_len,2) == 0:\n",
        "    NFORM = int(math.floor((ages_len + 1) / 2))\n",
        "    result = (ages[0][\"Age\"][NFORM - 1] + ages[0][\"Age\"][NFORM]) / 2 #MEDIAN\n",
        "    return result\n",
        "  else:\n",
        "    NFORM = (ages_len + 1) // 2\n",
        "    result = ages[0][\"Age\"][NFORM - 1]\n",
        "    return result\n",
        "  \n",
        "median = get_median(ages,ages_length)\n",
        "print(median)"
      ],
      "metadata": {
        "colab": {
          "base_uri": "https://localhost:8080/"
        },
        "id": "fLPk4RIy47WB",
        "outputId": "b6c5eeef-9463-40e1-ec37-59a529888c2a"
      },
      "execution_count": 20,
      "outputs": [
        {
          "output_type": "stream",
          "name": "stdout",
          "text": [
            "24.5\n"
          ]
        }
      ]
    },
    {
      "cell_type": "code",
      "source": [
        "def MiddleArifmetical(ages,ages_len):\n",
        "  #2 + 3 + 4  // count = 9\n",
        "  res = sum(ages[0][\"Age\"],ages[0][\"Age\"][0]) // ages_len\n",
        "  return res\n",
        "\n",
        "MiddleArifmetical = MiddleArifmetical(ages,ages_length)\n",
        "\n",
        "print(f\"{MiddleArifmetical},{median}\")"
      ],
      "metadata": {
        "colab": {
          "base_uri": "https://localhost:8080/"
        },
        "id": "4kcYyntr5Ewa",
        "outputId": "13ccfc40-84f4-4fb5-ef9f-f2398e01f1c1"
      },
      "execution_count": 21,
      "outputs": [
        {
          "output_type": "stream",
          "name": "stdout",
          "text": [
            "28.0,24.5\n"
          ]
        }
      ]
    },
    {
      "cell_type": "code",
      "source": [
        "people = np.array([men, wemen])\n",
        "Labels = [\"men\",\"wemen\"]\n",
        "md.pie(people,labels=Labels,explode=[0.2,0],colors=[\"tomato\",\"#186EFF\"],shadow=True,autopct='%1.1f%%')\n",
        "md.legend(title=\"Sex:\")\n",
        "md.show() \n",
        "\n",
        "survivedGraffic = np.array([len(dt),survived])\n",
        "lb = [\"people\",\"survived\"]\n",
        "md.pie(survivedGraffic,labels=lb,explode=[0,0.5],colors=[\"gray\",\"#186EFF\"],shadow=True,startangle = 45)\n",
        "md.legend(title=\"Survived <>\")\n",
        "md.show()"
      ],
      "metadata": {
        "colab": {
          "base_uri": "https://localhost:8080/",
          "height": 479
        },
        "id": "cgVI9GsZ5MFQ",
        "outputId": "10bb4080-6f2c-46de-bdb7-e0bdcd95dee4"
      },
      "execution_count": 23,
      "outputs": [
        {
          "output_type": "display_data",
          "data": {
            "text/plain": [
              "<Figure size 432x288 with 1 Axes>"
            ],
            "image/png": "[encoded data removed]"
          },
          "metadata": {}
        },
        {
          "output_type": "display_data",
          "data": {
            "text/plain": [
              "<Figure size 432x288 with 1 Axes>"
            ],
            "image/png": "[encoded data removed]"
          },
          "metadata": {}
        }
      ]
    },
    {
      "cell_type": "markdown",
      "source": [
        "# Новый раздел"
      ],
      "metadata": {
        "id": "bv1kcbHncKMz"
      }
    }
  ]
}